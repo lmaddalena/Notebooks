{
 "metadata": {
  "language_info": {
   "codemirror_mode": {
    "name": "ipython",
    "version": 3
   },
   "file_extension": ".py",
   "mimetype": "text/x-python",
   "name": "python",
   "nbconvert_exporter": "python",
   "pygments_lexer": "ipython3",
   "version": "3.7.4-final"
  },
  "orig_nbformat": 2,
  "kernelspec": {
   "name": "python_defaultSpec_1596024774034",
   "display_name": "Python 3.7.4 64-bit"
  }
 },
 "nbformat": 4,
 "nbformat_minor": 2,
 "cells": [
  {
   "cell_type": "markdown",
   "metadata": {},
   "source": [
    "## import usefull library"
   ]
  },
  {
   "cell_type": "code",
   "execution_count": 1,
   "metadata": {},
   "outputs": [],
   "source": [
    "import tensorflow as tf\n",
    "import cv2\n",
    "import h5py\n",
    "import numpy as np\n",
    "from tensorflow.keras.models import Sequential\n",
    "from tensorflow.keras.layers import  Dense, Activation, Dropout, Conv2D, Flatten, MaxPooling2D"
   ]
  },
  {
   "cell_type": "markdown",
   "metadata": {},
   "source": [
    "## load the dataset"
   ]
  },
  {
   "cell_type": "code",
   "execution_count": 2,
   "metadata": {
    "tags": []
   },
   "outputs": [],
   "source": [
    "train_dataset = h5py.File('data/mask_data.h5')\n",
    "X_data = np.array(train_dataset['X_data'][:])\n",
    "Y_data = np.array(train_dataset['Y_data'][:])\n"
   ]
  },
  {
   "cell_type": "markdown",
   "metadata": {},
   "source": [
    "## normalize the dataset"
   ]
  },
  {
   "cell_type": "code",
   "execution_count": 3,
   "metadata": {},
   "outputs": [],
   "source": [
    "X_data = X_data / 255.0"
   ]
  },
  {
   "cell_type": "markdown",
   "metadata": {},
   "source": [
    "## shuffle the data"
   ]
  },
  {
   "cell_type": "code",
   "execution_count": 4,
   "metadata": {
    "tags": []
   },
   "outputs": [
    {
     "output_type": "stream",
     "name": "stdout",
     "text": "X_data shape:  (1376, 128, 128, 3)\nY_data shepa:  (1376,)\n"
    }
   ],
   "source": [
    "idx = [i for i in range(X_data.shape[0])]\n",
    "idx = np.random.permutation(idx) \n",
    "X_data = X_data[idx,:]\n",
    "Y_data = Y_data[idx]\n",
    "\n",
    "print(\"X_data shape: \", str(X_data.shape))\n",
    "print(\"Y_data shepa: \", str(Y_data.shape))\n"
   ]
  },
  {
   "cell_type": "markdown",
   "metadata": {},
   "source": [
    "## split the data in train set and test set\n",
    "80% train set, 20% test set"
   ]
  },
  {
   "cell_type": "code",
   "execution_count": 5,
   "metadata": {
    "tags": []
   },
   "outputs": [
    {
     "output_type": "stream",
     "name": "stdout",
     "text": "X_train shape:  (1100, 128, 128, 3)\nY_train shape:  (1100,)\nX_test shape:  (276, 128, 128, 3)\nY_test shape:  (276,)\n"
    }
   ],
   "source": [
    "i = int(X_data.shape[0] * .8)\n",
    "X_train = X_data[:i,:]\n",
    "Y_train = Y_data[:i]\n",
    "X_test = X_data[i:,:]\n",
    "Y_test = Y_data[i:]\n",
    "\n",
    "print(\"X_train shape: \", str(X_train.shape))\n",
    "print(\"Y_train shape: \", str(Y_train.shape))\n",
    "print(\"X_test shape: \", str(X_test.shape))\n",
    "print(\"Y_test shape: \", str(Y_test.shape))"
   ]
  },
  {
   "cell_type": "code",
   "execution_count": 10,
   "metadata": {
    "tags": []
   },
   "outputs": [
    {
     "output_type": "stream",
     "name": "stdout",
     "text": "Model: \"sequential_2\"\n_________________________________________________________________\nLayer (type)                 Output Shape              Param #   \n=================================================================\nconv2d_4 (Conv2D)            (None, 126, 126, 200)     5600      \n_________________________________________________________________\nactivation_4 (Activation)    (None, 126, 126, 200)     0         \n_________________________________________________________________\nmax_pooling2d_4 (MaxPooling2 (None, 63, 63, 200)       0         \n_________________________________________________________________\nconv2d_5 (Conv2D)            (None, 61, 61, 100)       180100    \n_________________________________________________________________\nactivation_5 (Activation)    (None, 61, 61, 100)       0         \n_________________________________________________________________\nmax_pooling2d_5 (MaxPooling2 (None, 30, 30, 100)       0         \n_________________________________________________________________\nflatten_2 (Flatten)          (None, 90000)             0         \n_________________________________________________________________\ndropout_2 (Dropout)          (None, 90000)             0         \n_________________________________________________________________\ndense_4 (Dense)              (None, 50)                4500050   \n_________________________________________________________________\ndense_5 (Dense)              (None, 1)                 51        \n=================================================================\nTotal params: 4,685,801\nTrainable params: 4,685,801\nNon-trainable params: 0\n_________________________________________________________________\n"
    }
   ],
   "source": [
    "image_size = X_train.shape[1]\n",
    "\n",
    "model = Sequential()\n",
    "model.add(Conv2D(200,(3,3),input_shape=X_train.shape[1:]))\n",
    "model.add(Activation('relu'))\n",
    "model.add(MaxPooling2D(pool_size=(2,2)))\n",
    "model.add(Conv2D(100,(3,3)))\n",
    "model.add(Activation('relu'))\n",
    "model.add(MaxPooling2D(pool_size=(2,2)))\n",
    "model.add(Flatten())\n",
    "model.add(Dropout(0.5))\n",
    "model.add(Dense(50,activation='relu'))\n",
    "model.add(Dense(1,activation='softmax'))\n",
    "\n",
    "model.compile(optimizer='adam', loss='binary_crossentropy', metrics = ['accuracy'])\n",
    "model.summary()"
   ]
  },
  {
   "cell_type": "code",
   "execution_count": 11,
   "metadata": {
    "tags": []
   },
   "outputs": [
    {
     "output_type": "stream",
     "name": "stdout",
     "text": "Epoch 1/20\n 1/28 [>.............................] - ETA: 3s - loss: 8.1012 - accuracy: 0.4688"
    }
   ],
   "source": [
    "history = model.fit(X_train,Y_train,epochs = 20, validation_split = 0.2)"
   ]
  },
  {
   "cell_type": "code",
   "execution_count": null,
   "metadata": {},
   "outputs": [],
   "source": [
    "faceCascade=cv2.CascadeClassifier('data/haarcascade_frontalface_default.xml')\n",
    "video_capture = cv2.VideoCapture(0)  #starts the webcam\n",
    "labels_dict = {0:'NO MASK',1:'MASK'}\n",
    "color_dict  = { 0:(0,0,255),1:(0,255,0)}\n",
    "\n",
    "while(True):\n",
    "    ret,frame = video_capture.read()\n",
    "    gray = cv2.cvtColor(frame,cv2.COLOR_BGR2GRAY)\n",
    "    faces = faceCascade.detectMultiScale(gray,1.3,5)\n",
    "    \n",
    "    for x,y,w,h in faces:\n",
    "        face_img = gray[y:y+w,x:x+h]\n",
    "        #resized = cv2.resize(face_img,(img_size,img_size))\n",
    "        #normalized = resized/255.0\n",
    "        #reshaped = np.reshape(normalized,(1,img_size,img_size,1))\n",
    "        #result = model.predict(reshaped)\n",
    "        \n",
    "        #label = np.argmax(result,axis=1)[0]\n",
    "        #cv2.rectangle(frame,(x,y),(x+w,y+h),color_dict[label],2)\n",
    "        #cv2.putText(frame,labels_dict[label],(x,y-10),cv2.FONT_HERSHEY_SIMPLEX,0.8,(255,255,255),2)\n",
    "        cv2.rectangle(frame,(x,y),(x+w,y+h),color_dict[1],2)\n",
    "        cv2.putText(frame,labels_dict[1],(x,y-10),cv2.FONT_HERSHEY_SIMPLEX,0.8,(255,255,255),2)\n",
    "\n",
    "    cv2.imshow('Video',frame)\n",
    "    key=cv2.waitKey(1)\n",
    "    \n",
    "    if(key==27):\n",
    "        break;\n",
    "        \n",
    "cv2.destroyAllWindows()\n",
    "video_capture.release()"
   ]
  },
  {
   "cell_type": "code",
   "execution_count": null,
   "metadata": {},
   "outputs": [],
   "source": []
  }
 ]
}